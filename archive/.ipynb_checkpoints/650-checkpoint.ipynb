{
 "cells": [
  {
   "cell_type": "code",
   "execution_count": 1,
   "metadata": {},
   "outputs": [],
   "source": [
    "import pandas as pd\n",
    "import numpy as np"
   ]
  },
  {
   "cell_type": "code",
   "execution_count": 2,
   "metadata": {},
   "outputs": [
    {
     "data": {
      "text/html": [
       "<div>\n",
       "<style scoped>\n",
       "    .dataframe tbody tr th:only-of-type {\n",
       "        vertical-align: middle;\n",
       "    }\n",
       "\n",
       "    .dataframe tbody tr th {\n",
       "        vertical-align: top;\n",
       "    }\n",
       "\n",
       "    .dataframe thead th {\n",
       "        text-align: right;\n",
       "    }\n",
       "</style>\n",
       "<table border=\"1\" class=\"dataframe\">\n",
       "  <thead>\n",
       "    <tr style=\"text-align: right;\">\n",
       "      <th></th>\n",
       "      <th>label</th>\n",
       "      <th>comment</th>\n",
       "      <th>parent_comment</th>\n",
       "    </tr>\n",
       "  </thead>\n",
       "  <tbody>\n",
       "    <tr>\n",
       "      <th>0</th>\n",
       "      <td>0</td>\n",
       "      <td>This guy, there's no way he isn't trolling, ri...</td>\n",
       "      <td>Who?</td>\n",
       "    </tr>\n",
       "    <tr>\n",
       "      <th>1</th>\n",
       "      <td>0</td>\n",
       "      <td>Funny how the media chose to never bring it up...</td>\n",
       "      <td>Umm yes! It was a huge scandal, do you not mem...</td>\n",
       "    </tr>\n",
       "    <tr>\n",
       "      <th>2</th>\n",
       "      <td>0</td>\n",
       "      <td>If you're buying something at only 20% off, yo...</td>\n",
       "      <td>I think you could make a bot that randomly pos...</td>\n",
       "    </tr>\n",
       "    <tr>\n",
       "      <th>3</th>\n",
       "      <td>0</td>\n",
       "      <td>Oh come on</td>\n",
       "      <td>is there still a difference nowadays?</td>\n",
       "    </tr>\n",
       "    <tr>\n",
       "      <th>4</th>\n",
       "      <td>0</td>\n",
       "      <td>Bots don't send their best people.</td>\n",
       "      <td>Stop following me shillbot and upvote my post!...</td>\n",
       "    </tr>\n",
       "    <tr>\n",
       "      <th>5</th>\n",
       "      <td>0</td>\n",
       "      <td>Making arrows worse sure</td>\n",
       "      <td>Dude tranquilizers would be a damn game change...</td>\n",
       "    </tr>\n",
       "    <tr>\n",
       "      <th>6</th>\n",
       "      <td>0</td>\n",
       "      <td>Wtf lmaoo</td>\n",
       "      <td>Did the same man expect hung over af at this h...</td>\n",
       "    </tr>\n",
       "    <tr>\n",
       "      <th>7</th>\n",
       "      <td>0</td>\n",
       "      <td>We definitely have \"discipline\", but a lot of ...</td>\n",
       "      <td>One positive note about this season/Chip Kelly...</td>\n",
       "    </tr>\n",
       "    <tr>\n",
       "      <th>8</th>\n",
       "      <td>0</td>\n",
       "      <td>Oh the irony...</td>\n",
       "      <td>Agreed. I think what's the issue for me is tha...</td>\n",
       "    </tr>\n",
       "    <tr>\n",
       "      <th>9</th>\n",
       "      <td>0</td>\n",
       "      <td>Wtf I thought that McD's wrote that song</td>\n",
       "      <td>Justin Timberlake's 'I'm loving it' will alway...</td>\n",
       "    </tr>\n",
       "  </tbody>\n",
       "</table>\n",
       "</div>"
      ],
      "text/plain": [
       "   label                                            comment  \\\n",
       "0      0  This guy, there's no way he isn't trolling, ri...   \n",
       "1      0  Funny how the media chose to never bring it up...   \n",
       "2      0  If you're buying something at only 20% off, yo...   \n",
       "3      0                                         Oh come on   \n",
       "4      0                 Bots don't send their best people.   \n",
       "5      0                           Making arrows worse sure   \n",
       "6      0                                          Wtf lmaoo   \n",
       "7      0  We definitely have \"discipline\", but a lot of ...   \n",
       "8      0                                    Oh the irony...   \n",
       "9      0           Wtf I thought that McD's wrote that song   \n",
       "\n",
       "                                      parent_comment  \n",
       "0                                               Who?  \n",
       "1  Umm yes! It was a huge scandal, do you not mem...  \n",
       "2  I think you could make a bot that randomly pos...  \n",
       "3              is there still a difference nowadays?  \n",
       "4  Stop following me shillbot and upvote my post!...  \n",
       "5  Dude tranquilizers would be a damn game change...  \n",
       "6  Did the same man expect hung over af at this h...  \n",
       "7  One positive note about this season/Chip Kelly...  \n",
       "8  Agreed. I think what's the issue for me is tha...  \n",
       "9  Justin Timberlake's 'I'm loving it' will alway...  "
      ]
     },
     "execution_count": 2,
     "metadata": {},
     "output_type": "execute_result"
    }
   ],
   "source": [
    "train = pd.read_csv('all/train.tsv',sep='\\t')\n",
    "train.head(10)"
   ]
  },
  {
   "cell_type": "code",
   "execution_count": 3,
   "metadata": {},
   "outputs": [
    {
     "data": {
      "text/html": [
       "<div>\n",
       "<style scoped>\n",
       "    .dataframe tbody tr th:only-of-type {\n",
       "        vertical-align: middle;\n",
       "    }\n",
       "\n",
       "    .dataframe tbody tr th {\n",
       "        vertical-align: top;\n",
       "    }\n",
       "\n",
       "    .dataframe thead th {\n",
       "        text-align: right;\n",
       "    }\n",
       "</style>\n",
       "<table border=\"1\" class=\"dataframe\">\n",
       "  <thead>\n",
       "    <tr style=\"text-align: right;\">\n",
       "      <th></th>\n",
       "      <th>id</th>\n",
       "      <th>comment</th>\n",
       "      <th>parent_comment</th>\n",
       "    </tr>\n",
       "  </thead>\n",
       "  <tbody>\n",
       "    <tr>\n",
       "      <th>0</th>\n",
       "      <td>0</td>\n",
       "      <td>Yes, but each battle, 10 3112 Snorlax will las...</td>\n",
       "      <td>You do know that the timer resets for each bat...</td>\n",
       "    </tr>\n",
       "    <tr>\n",
       "      <th>1</th>\n",
       "      <td>1</td>\n",
       "      <td>About tree fiddy</td>\n",
       "      <td>How much Drake represents the personality of C...</td>\n",
       "    </tr>\n",
       "    <tr>\n",
       "      <th>2</th>\n",
       "      <td>2</td>\n",
       "      <td>Bang bang bang</td>\n",
       "      <td>LOL they are like that old dude that shows up ...</td>\n",
       "    </tr>\n",
       "    <tr>\n",
       "      <th>3</th>\n",
       "      <td>3</td>\n",
       "      <td>I imagine they are small marks and if you were...</td>\n",
       "      <td>Yeah, I don't think I have ever noticed any ch...</td>\n",
       "    </tr>\n",
       "    <tr>\n",
       "      <th>4</th>\n",
       "      <td>4</td>\n",
       "      <td>Yeah, me too...I didn't enjoy it much, althoug...</td>\n",
       "      <td>I honestly really hope that Sweetz is /not/ in...</td>\n",
       "    </tr>\n",
       "    <tr>\n",
       "      <th>5</th>\n",
       "      <td>5</td>\n",
       "      <td>If a frog had wings it wouldn't bump his ass w...</td>\n",
       "      <td>None of this matters if Trump wins Minnesota, ...</td>\n",
       "    </tr>\n",
       "    <tr>\n",
       "      <th>6</th>\n",
       "      <td>6</td>\n",
       "      <td>can't watch it and get into heaven son, that's...</td>\n",
       "      <td>You are on the internet, you can watch everyth...</td>\n",
       "    </tr>\n",
       "    <tr>\n",
       "      <th>7</th>\n",
       "      <td>7</td>\n",
       "      <td>I don't really know the exact models but have ...</td>\n",
       "      <td>Bowl recommendations I do know about the wiki,...</td>\n",
       "    </tr>\n",
       "    <tr>\n",
       "      <th>8</th>\n",
       "      <td>8</td>\n",
       "      <td>Feeeeeeemales!</td>\n",
       "      <td>omg feminists are the most opressed, pls haaaelp</td>\n",
       "    </tr>\n",
       "    <tr>\n",
       "      <th>9</th>\n",
       "      <td>9</td>\n",
       "      <td>I haven't been able to watch a single game on ...</td>\n",
       "      <td>**For those who got cut off, if you have veriz...</td>\n",
       "    </tr>\n",
       "  </tbody>\n",
       "</table>\n",
       "</div>"
      ],
      "text/plain": [
       "   id                                            comment  \\\n",
       "0   0  Yes, but each battle, 10 3112 Snorlax will las...   \n",
       "1   1                                   About tree fiddy   \n",
       "2   2                                     Bang bang bang   \n",
       "3   3  I imagine they are small marks and if you were...   \n",
       "4   4  Yeah, me too...I didn't enjoy it much, althoug...   \n",
       "5   5  If a frog had wings it wouldn't bump his ass w...   \n",
       "6   6  can't watch it and get into heaven son, that's...   \n",
       "7   7  I don't really know the exact models but have ...   \n",
       "8   8                                     Feeeeeeemales!   \n",
       "9   9  I haven't been able to watch a single game on ...   \n",
       "\n",
       "                                      parent_comment  \n",
       "0  You do know that the timer resets for each bat...  \n",
       "1  How much Drake represents the personality of C...  \n",
       "2  LOL they are like that old dude that shows up ...  \n",
       "3  Yeah, I don't think I have ever noticed any ch...  \n",
       "4  I honestly really hope that Sweetz is /not/ in...  \n",
       "5  None of this matters if Trump wins Minnesota, ...  \n",
       "6  You are on the internet, you can watch everyth...  \n",
       "7  Bowl recommendations I do know about the wiki,...  \n",
       "8   omg feminists are the most opressed, pls haaaelp  \n",
       "9  **For those who got cut off, if you have veriz...  "
      ]
     },
     "execution_count": 3,
     "metadata": {},
     "output_type": "execute_result"
    }
   ],
   "source": [
    "test = pd.read_csv('all/test.tsv',sep='\\t')\n",
    "test.head(10)"
   ]
  },
  {
   "cell_type": "code",
   "execution_count": 4,
   "metadata": {},
   "outputs": [],
   "source": [
    "### remove stopwords of X_train\n",
    "import re\n",
    "import os\n",
    "from spacy.lang.en.stop_words import STOP_WORDS\n",
    "\n",
    "def get_clean_text(row):\n",
    "    sentences = row.lower()\n",
    "    sentences = re.sub(r'[^\\w\\s]', '', sentences)\n",
    "    sentences = sentences.replace(os.linesep, \"\")\n",
    "    sentences = re.sub(r'\\d+', '', sentences)\n",
    "#     doc = nlp(sentences)\n",
    "    return sentences\n",
    "\n",
    "train.comment = train.comment.astype('str').apply(get_clean_text)\n",
    "test.comment = test.comment.astype('str').apply(get_clean_text)"
   ]
  },
  {
   "cell_type": "code",
   "execution_count": 5,
   "metadata": {},
   "outputs": [
    {
     "data": {
      "text/plain": [
       "(52974, 36232)"
      ]
     },
     "execution_count": 5,
     "metadata": {},
     "output_type": "execute_result"
    }
   ],
   "source": [
    "from sklearn.feature_extraction.text import CountVectorizer\n",
    "count_vect = CountVectorizer()\n",
    "X_train_counts = count_vect.fit_transform(train.comment.values)  #TODO: decide the format of training data to parse in\n",
    "X_train_counts.shape"
   ]
  },
  {
   "cell_type": "code",
   "execution_count": 7,
   "metadata": {},
   "outputs": [
    {
     "data": {
      "text/plain": [
       "array([0, 0, 0, ..., 0, 0, 0], dtype=int64)"
      ]
     },
     "execution_count": 7,
     "metadata": {},
     "output_type": "execute_result"
    }
   ],
   "source": [
    "X_train_counts.A[0]"
   ]
  },
  {
   "cell_type": "code",
   "execution_count": 6,
   "metadata": {},
   "outputs": [
    {
     "data": {
      "text/plain": [
       "(52974, 36232)"
      ]
     },
     "execution_count": 6,
     "metadata": {},
     "output_type": "execute_result"
    }
   ],
   "source": [
    "from sklearn.feature_extraction.text import TfidfTransformer\n",
    "tfidf_transformer = TfidfTransformer()\n",
    "X_train_tfidf = tfidf_transformer.fit_transform(X_train_counts)\n",
    "X_train_tfidf.shape"
   ]
  },
  {
   "cell_type": "code",
   "execution_count": 29,
   "metadata": {},
   "outputs": [
    {
     "name": "stderr",
     "output_type": "stream",
     "text": [
      "/anaconda3/envs/si618/lib/python3.6/site-packages/sklearn/linear_model/stochastic_gradient.py:130: DeprecationWarning: n_iter parameter is deprecated in 0.19 and will be removed in 0.21. Use max_iter and tol instead.\n",
      "  DeprecationWarning)\n"
     ]
    },
    {
     "data": {
      "text/plain": [
       "Pipeline(memory=None,\n",
       "     steps=[('vect', CountVectorizer(analyzer='word', binary=False, decode_error='strict',\n",
       "        dtype=<class 'numpy.int64'>, encoding='utf-8', input='content',\n",
       "        lowercase=True, max_df=1.0, max_features=None, min_df=1,\n",
       "        ngram_range=(1, 1), preprocessor=None, stop_words=None,\n",
       "        strip...dom_state=42, shuffle=True, tol=None,\n",
       "       validation_fraction=0.1, verbose=0, warm_start=False))])"
      ]
     },
     "execution_count": 29,
     "metadata": {},
     "output_type": "execute_result"
    }
   ],
   "source": [
    "#### SVM\n",
    "from sklearn.pipeline import Pipeline\n",
    "from sklearn.linear_model import SGDClassifier\n",
    "\n",
    "text_clf_svm = Pipeline([('vect', CountVectorizer(analyzer='word', token_pattern=r'\\w{1,}')),\n",
    "                         ('tfidf', TfidfTransformer()),\n",
    "                         ('clf-svm', SGDClassifier(loss='hinge', penalty='l2',alpha=1e-3, n_iter=5, random_state=42))])\n",
    "\n",
    "text_clf_svm.fit(train.comment.values.astype('U'), train.label.values)"
   ]
  },
  {
   "cell_type": "code",
   "execution_count": 6,
   "metadata": {},
   "outputs": [
    {
     "data": {
      "text/plain": [
       "Pipeline(memory=None,\n",
       "     steps=[('vect', CountVectorizer(analyzer='word', binary=False, decode_error='strict',\n",
       "        dtype=<class 'numpy.int64'>, encoding='utf-8', input='content',\n",
       "        lowercase=True, max_df=1.0, max_features=None, min_df=1,\n",
       "        ngram_range=(1, 1), preprocessor=None, stop_words=None,\n",
       "        strip...r', max_iter=-1, probability=False, random_state=None,\n",
       "  shrinking=True, tol=0.001, verbose=False))])"
      ]
     },
     "execution_count": 6,
     "metadata": {},
     "output_type": "execute_result"
    }
   ],
   "source": [
    "#### linear SVC\n",
    "from sklearn.pipeline import Pipeline\n",
    "from sklearn.svm import SVC\n",
    "\n",
    "text_clf_LinearSVC = Pipeline([('vect', CountVectorizer(analyzer='word', token_pattern=r'\\w{1,}')),\n",
    "                         ('tfidf', TfidfTransformer()),\n",
    "                         ('clf-linearSVC', SVC(kernel = 'linear'))]) # originally, set C = 1.0 \n",
    "\n",
    "text_clf_LinearSVC.fit(train.comment.values.astype('U'), train.label.values)"
   ]
  },
  {
   "cell_type": "code",
   "execution_count": 7,
   "metadata": {},
   "outputs": [
    {
     "data": {
      "text/plain": [
       "array([0, 0, 1, ..., 0, 0, 1])"
      ]
     },
     "execution_count": 7,
     "metadata": {},
     "output_type": "execute_result"
    }
   ],
   "source": [
    "predicted_LinearSVC = text_clf_LinearSVC.predict(test.comment.values.astype('U'))\n",
    "predicted_LinearSVC"
   ]
  },
  {
   "cell_type": "code",
   "execution_count": null,
   "metadata": {},
   "outputs": [],
   "source": []
  },
  {
   "cell_type": "code",
   "execution_count": null,
   "metadata": {},
   "outputs": [],
   "source": [
    "#### TODO: grid search for LinearSVC\n",
    "from sklearn.model_selection import GridSearchCV\n",
    "\n",
    "parameters = {'vect__ngram_range': [(1, 1), (1, 2)],\n",
    "              'tfidf__use_idf': (True, False),\n",
    "              'clf-linearSVC__C':[1,10,100]}\n",
    "\n",
    "grid_clf = GridSearchCV(text_clf_LinearSVC, parameters, cv=10)\n",
    "grid_clf.fit(train.comment.values.astype('U'),train.label.values)\n"
   ]
  },
  {
   "cell_type": "code",
   "execution_count": 39,
   "metadata": {},
   "outputs": [
    {
     "data": {
      "text/plain": [
       "True"
      ]
     },
     "execution_count": 39,
     "metadata": {},
     "output_type": "execute_result"
    }
   ],
   "source": [
    "1 in predicted_svm"
   ]
  },
  {
   "cell_type": "code",
   "execution_count": 50,
   "metadata": {},
   "outputs": [
    {
     "data": {
      "text/plain": [
       "Pipeline(memory=None,\n",
       "     steps=[('vect', CountVectorizer(analyzer='word', binary=False, decode_error='strict',\n",
       "        dtype=<class 'numpy.int64'>, encoding='utf-8', input='content',\n",
       "        lowercase=True, max_df=1.0, max_features=None, min_df=1,\n",
       "        ngram_range=(1, 1), preprocessor=None, stop_words=None,\n",
       "        strip...inear_tf=False, use_idf=True)), ('clf', MultinomialNB(alpha=1.0, class_prior=None, fit_prior=True))])"
      ]
     },
     "execution_count": 50,
     "metadata": {},
     "output_type": "execute_result"
    }
   ],
   "source": [
    "#### Naive Bayes\n",
    "from sklearn.naive_bayes import MultinomialNB\n",
    "\n",
    "text_clf_NB = Pipeline([('vect', CountVectorizer(analyzer='word', token_pattern=r'\\w{1,}')),\n",
    "                         ('tfidf', TfidfTransformer()),\n",
    "                         ('clf', MultinomialNB())])\n",
    "\n",
    "text_clf_NB.fit(train.comment.values.astype('U'), train.label.values)"
   ]
  },
  {
   "cell_type": "code",
   "execution_count": 51,
   "metadata": {},
   "outputs": [
    {
     "data": {
      "text/plain": [
       "array([0, 0, 1, ..., 0, 0, 1])"
      ]
     },
     "execution_count": 51,
     "metadata": {},
     "output_type": "execute_result"
    }
   ],
   "source": [
    "predicted_NB = text_clf_NB.predict(test.comment.values.astype('U'))\n",
    "predicted_NB"
   ]
  },
  {
   "cell_type": "code",
   "execution_count": null,
   "metadata": {},
   "outputs": [],
   "source": []
  },
  {
   "cell_type": "code",
   "execution_count": 6,
   "metadata": {},
   "outputs": [
    {
     "name": "stderr",
     "output_type": "stream",
     "text": [
      "/anaconda3/envs/si618/lib/python3.6/site-packages/sklearn/linear_model/logistic.py:432: FutureWarning: Default solver will be changed to 'lbfgs' in 0.22. Specify a solver to silence this warning.\n",
      "  FutureWarning)\n"
     ]
    },
    {
     "data": {
      "text/plain": [
       "Pipeline(memory=None,\n",
       "     steps=[('vect', CountVectorizer(analyzer='word', binary=False, decode_error='strict',\n",
       "        dtype=<class 'numpy.int64'>, encoding='utf-8', input='content',\n",
       "        lowercase=True, max_df=1.0, max_features=None, min_df=1,\n",
       "        ngram_range=(1, 1), preprocessor=None, stop_words=None,\n",
       "        strip...penalty='l2', random_state=None, solver='warn',\n",
       "          tol=0.0001, verbose=0, warm_start=False))])"
      ]
     },
     "execution_count": 6,
     "metadata": {},
     "output_type": "execute_result"
    }
   ],
   "source": [
    "#### logistic regression\n",
    "from sklearn.linear_model import LogisticRegression\n",
    "\n",
    "from sklearn.pipeline import Pipeline\n",
    "from sklearn.svm import SVC\n",
    "\n",
    "text_clf_LR = Pipeline([('vect', CountVectorizer(analyzer='word', token_pattern=r'\\w{1,}')),\n",
    "                         ('tfidf', TfidfTransformer()),\n",
    "                         ('clf', LogisticRegression())])\n",
    "\n",
    "text_clf_LR.fit(train.comment.values.astype('U'), train.label.values)"
   ]
  },
  {
   "cell_type": "code",
   "execution_count": 7,
   "metadata": {},
   "outputs": [
    {
     "data": {
      "text/plain": [
       "array([0, 0, 1, ..., 0, 0, 1])"
      ]
     },
     "execution_count": 7,
     "metadata": {},
     "output_type": "execute_result"
    }
   ],
   "source": [
    "predicted_LR = text_clf_LR.predict(test.comment.values.astype('U'))\n",
    "predicted_LR"
   ]
  },
  {
   "cell_type": "code",
   "execution_count": null,
   "metadata": {},
   "outputs": [],
   "source": []
  },
  {
   "cell_type": "code",
   "execution_count": 8,
   "metadata": {},
   "outputs": [
    {
     "data": {
      "text/plain": [
       "17719"
      ]
     },
     "execution_count": 8,
     "metadata": {},
     "output_type": "execute_result"
    }
   ],
   "source": [
    "data = {}\n",
    "data['ID'] = test.id\n",
    "# data['Category'] = predicted_svm\n",
    "# data['Category'] = predicted_NB\n",
    "# data['Category'] = predicted_LinearSVC\n",
    "# data['Category'] = predicted_LinearSVC_gridSearch # fail\n",
    "data['Category'] = predicted_LR\n",
    "\n",
    "results = pd.DataFrame(data)\n",
    "len(results)"
   ]
  },
  {
   "cell_type": "code",
   "execution_count": 9,
   "metadata": {},
   "outputs": [],
   "source": [
    "# results.to_csv('predicted_svm.csv',encoding = 'UTF-8',index = False)\n",
    "# results.to_csv('predicted_NB.csv',encoding = 'UTF-8',index = False)\n",
    "# results.to_csv('predicted_linearSVC.csv',encoding = 'UTF-8',index = False) # 0.67 (best so far)\n",
    "# results.to_csv('predicted_linearSVC_GridSearch.csv',encoding = 'UTF-8',index = False)  # fail\n",
    "results.to_csv('predicted_LR.csv',encoding = 'UTF-8',index = False)  "
   ]
  },
  {
   "cell_type": "code",
   "execution_count": 53,
   "metadata": {},
   "outputs": [],
   "source": []
  },
  {
   "cell_type": "code",
   "execution_count": null,
   "metadata": {},
   "outputs": [],
   "source": [
    "#### tricks #####\n",
    "# 1.test if value in df or array:\n",
    "# '1 in predicted_svm'\n",
    "\n",
    "# 2.tf-idf type error?\n",
    "# train.comment.values.astype('U') --> change it to unistring type\n"
   ]
  }
 ],
 "metadata": {
  "kernelspec": {
   "display_name": "Python 3",
   "language": "python",
   "name": "python3"
  },
  "language_info": {
   "codemirror_mode": {
    "name": "ipython",
    "version": 3
   },
   "file_extension": ".py",
   "mimetype": "text/x-python",
   "name": "python",
   "nbconvert_exporter": "python",
   "pygments_lexer": "ipython3",
   "version": "3.6.6"
  }
 },
 "nbformat": 4,
 "nbformat_minor": 2
}
